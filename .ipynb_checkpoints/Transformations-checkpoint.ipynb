{
 "cells": [
  {
   "cell_type": "markdown",
   "metadata": {},
   "source": [
    "<h1>Transformaciones </h1>"
   ]
  },
  {
   "cell_type": "code",
   "execution_count": 2,
   "metadata": {},
   "outputs": [],
   "source": [
    "import numpy as np\n",
    "import pandas as pd"
   ]
  },
  {
   "cell_type": "code",
   "execution_count": 3,
   "metadata": {},
   "outputs": [
    {
     "name": "stderr",
     "output_type": "stream",
     "text": [
      "C:\\Users\\El supremo\\AppData\\Local\\Temp\\ipykernel_12756\\4267242611.py:1: DtypeWarning: Columns (334,410,412,540,541,543,545,549,552,553,554,555,556,557) have mixed types. Specify dtype option on import or set low_memory=False.\n",
      "  df_asma_data_2021 = pd.read_csv('./datos/Datos_proyecto_II_BI_2021.csv', sep=',', encoding = 'latin-1')\n",
      "C:\\Users\\El supremo\\AppData\\Local\\Temp\\ipykernel_12756\\4267242611.py:2: DtypeWarning: Columns (145,295,297,380,381,383,469,495,496,499,500,501,508,509,510,511) have mixed types. Specify dtype option on import or set low_memory=False.\n",
      "  df_asma_data_2017 = pd.read_csv('./datos/Datos_proyecto_II_BI_2017.csv', sep=',', encoding = 'latin-1')\n"
     ]
    }
   ],
   "source": [
    "df_asma_data_2021 = pd.read_csv('./datos/Datos_proyecto_II_BI_2021.csv', sep=',', encoding = 'latin-1')\n",
    "df_asma_data_2017 = pd.read_csv('./datos/Datos_proyecto_II_BI_2017.csv', sep=',', encoding = 'latin-1')"
   ]
  },
  {
   "cell_type": "code",
   "execution_count": 18,
   "metadata": {},
   "outputs": [],
   "source": [
    "def transform_data2021(df):\n",
    "    columnas_de_interes_2021 = [\n",
    "    \"NPCEP5\",\n",
    "    \"NOMBRE_LOCALIDAD\",\n",
    "    \"NPCEP4\",\n",
    "    \"MPIO\",\n",
    "    \"NPCHP18AA\",\n",
    "    \"NPCHP18AB\",\n",
    "    \"NPCHP18AC\",\n",
    "    \"NPCHP18AD\",\n",
    "    \"NPCHP18AE\",\n",
    "    \"NPCHP18AF\",\n",
    "    \"NPCHP18AG\",\n",
    "    \"NPCHP18AH\",\n",
    "    \"NPCHP18AI\",\n",
    "    \"NPCHP18AI1\",\n",
    "    \"NPCHP18AJ\",\n",
    "    \"NPCHP18AK\",\n",
    "    \"NPCHP18AL\",\n",
    "    \"NPCHP18AM\",\n",
    "    \"NPCHP18AN\",\n",
    "    \"NPCHP18AO\"]\n",
    "    df_asma_asma_2021 = df[columnas_de_interes_2021]\n",
    "    df_asma_bogota_2021=df_asma_asma_2021[df_asma_asma_2021[\"MPIO\"]==11001]\n",
    "    df_asma_bogota_2021['ANIO']=2021\n",
    "    print(df_asma_bogota_2021)\n",
    "\n",
    "    \n",
    "    rankings_pd.rename(columns = {\n",
    "    'NPCHP18AA':'NPCHP18A', \n",
    "    'NPCHP18AB':'NPCHP18B',\n",
    "    'NPCHP18AC':'NPCHP18C', \n",
    "    \"NPCHP18AD\": \"NPCHP18D\",\n",
    "    \"NPCHP18AE\": \"NPCHP18E\",\n",
    "    \"NPCHP18AF\": \"NPCHP18F\",\n",
    "    \"NPCHP18AG\": \"NPCHP18G\",\n",
    "    \"NPCHP18AH\": \"NPCHP18H\",\n",
    "    \"NPCHP18AI\": \"NPCHP18I\",\n",
    "    \"NPCHP18AI1\": \"NPCHP18J\",\n",
    "    \"NPCHP18AJ\": \"NPCHP18K\",\n",
    "    \"NPCHP18AL\": \"NPCHP18L\",\n",
    "    \"NPCHP18AM\": \"NPCHP18L\",\n",
    "    \"NPCHP18AN\": \"NPCHP18N\",\n",
    "    \"NPCHP18AO\": \"NPCHP18O\"\n",
    "    \"NPCHP18AK\": \"NPCHP18K\",\n",
    "                    }, inplace = True)\n",
    "    \n",
    "    "
   ]
  },
  {
   "cell_type": "code",
   "execution_count": 19,
   "metadata": {},
   "outputs": [
    {
     "name": "stdout",
     "output_type": "stream",
     "text": [
      "      NPCEP5 NOMBRE_LOCALIDAD  NPCEP4   MPIO  NPCHP18AA  NPCHP18AB  NPCHP18AC  \\\n",
      "0          2             Bosa      70  11001        NaN        NaN        NaN   \n",
      "1          2             Bosa      60  11001        NaN        NaN        NaN   \n",
      "2          1             Usme      13  11001        2.0        2.0        2.0   \n",
      "3          1         Fontibon      38  11001        NaN        NaN        NaN   \n",
      "4          2         Fontibon      56  11001        NaN        NaN        NaN   \n",
      "...      ...              ...     ...    ...        ...        ...        ...   \n",
      "8625       2             Bosa      35  11001        NaN        NaN        NaN   \n",
      "8626       1             Bosa       9  11001        2.0        2.0        2.0   \n",
      "8627       1             Bosa       0  11001        NaN        NaN        NaN   \n",
      "8628       1             Bosa      37  11001        NaN        NaN        NaN   \n",
      "8629       2             Bosa      10  11001        2.0        2.0        2.0   \n",
      "\n",
      "      NPCHP18AD  NPCHP18AE  NPCHP18AF  ...  NPCHP18AH  NPCHP18AI  NPCHP18AI1  \\\n",
      "0           NaN        NaN        NaN  ...        NaN        NaN         NaN   \n",
      "1           NaN        NaN        NaN  ...        NaN        NaN         NaN   \n",
      "2           2.0        2.0        2.0  ...        2.0        1.0         2.0   \n",
      "3           NaN        NaN        NaN  ...        NaN        NaN         NaN   \n",
      "4           NaN        NaN        NaN  ...        NaN        NaN         NaN   \n",
      "...         ...        ...        ...  ...        ...        ...         ...   \n",
      "8625        NaN        NaN        NaN  ...        NaN        NaN         NaN   \n",
      "8626        2.0        2.0        2.0  ...        2.0        2.0         2.0   \n",
      "8627        NaN        NaN        NaN  ...        NaN        NaN         NaN   \n",
      "8628        NaN        NaN        NaN  ...        NaN        NaN         NaN   \n",
      "8629        2.0        2.0        2.0  ...        2.0        1.0         2.0   \n",
      "\n",
      "      NPCHP18AJ  NPCHP18AK  NPCHP18AL  NPCHP18AM  NPCHP18AN  NPCHP18AO  ANIO  \n",
      "0           NaN        NaN        NaN        NaN        NaN        NaN  2021  \n",
      "1           NaN        NaN        NaN        NaN        NaN        NaN  2021  \n",
      "2           2.0        2.0        2.0        NaN        2.0        2.0  2021  \n",
      "3           NaN        NaN        NaN        NaN        NaN        NaN  2021  \n",
      "4           NaN        NaN        NaN        NaN        NaN        NaN  2021  \n",
      "...         ...        ...        ...        ...        ...        ...   ...  \n",
      "8625        NaN        NaN        NaN        NaN        NaN        NaN  2021  \n",
      "8626        2.0        2.0        2.0        NaN        2.0        2.0  2021  \n",
      "8627        NaN        NaN        NaN        NaN        NaN        NaN  2021  \n",
      "8628        NaN        NaN        NaN        NaN        NaN        NaN  2021  \n",
      "8629        2.0        2.0        2.0        NaN        2.0        2.0  2021  \n",
      "\n",
      "[7238 rows x 21 columns]\n"
     ]
    },
    {
     "name": "stderr",
     "output_type": "stream",
     "text": [
      "C:\\Users\\El supremo\\AppData\\Local\\Temp\\ipykernel_12756\\852211650.py:25: SettingWithCopyWarning: \n",
      "A value is trying to be set on a copy of a slice from a DataFrame.\n",
      "Try using .loc[row_indexer,col_indexer] = value instead\n",
      "\n",
      "See the caveats in the documentation: https://pandas.pydata.org/pandas-docs/stable/user_guide/indexing.html#returning-a-view-versus-a-copy\n",
      "  df_asma_bogota_2021['ANIO']=2021\n"
     ]
    }
   ],
   "source": [
    "transform_data2021(df_asma_data_2021)"
   ]
  },
  {
   "cell_type": "code",
   "execution_count": null,
   "metadata": {},
   "outputs": [],
   "source": []
  }
 ],
 "metadata": {
  "kernelspec": {
   "display_name": "Python 3 (ipykernel)",
   "language": "python",
   "name": "python3"
  },
  "language_info": {
   "codemirror_mode": {
    "name": "ipython",
    "version": 3
   },
   "file_extension": ".py",
   "mimetype": "text/x-python",
   "name": "python",
   "nbconvert_exporter": "python",
   "pygments_lexer": "ipython3",
   "version": "3.9.13"
  }
 },
 "nbformat": 4,
 "nbformat_minor": 2
}
