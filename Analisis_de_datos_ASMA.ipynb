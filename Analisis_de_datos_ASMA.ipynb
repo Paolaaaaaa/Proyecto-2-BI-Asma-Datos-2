{
 "cells": [
  {
   "cell_type": "markdown",
   "metadata": {},
   "source": [
    "<h1>Proyecto 2:  Analisis de datos</h1>"
   ]
  },
  {
   "cell_type": "code",
   "execution_count": 1,
   "metadata": {},
   "outputs": [],
   "source": [
    "import numpy as np\n",
    "import pandas as pd"
   ]
  },
  {
   "cell_type": "code",
   "execution_count": 2,
   "metadata": {},
   "outputs": [
    {
     "name": "stderr",
     "output_type": "stream",
     "text": [
      "C:\\Users\\El supremo\\AppData\\Local\\Temp\\ipykernel_14932\\3929278842.py:1: DtypeWarning: Columns (334,410,412,540,541,543,545,549,552,553,554,555,556,557) have mixed types. Specify dtype option on import or set low_memory=False.\n",
      "  df_asma_data = pd.read_csv('./datos/Datos_proyecto_II_BI_2021.csv', sep=',', encoding = 'latin-1')\n"
     ]
    }
   ],
   "source": [
    "df_asma_data = pd.read_csv('./datos/Datos_proyecto_II_BI_2021.csv', sep=',', encoding = 'latin-1')"
   ]
  },
  {
   "cell_type": "code",
   "execution_count": 3,
   "metadata": {},
   "outputs": [
    {
     "data": {
      "text/plain": [
       "(8630, 601)"
      ]
     },
     "execution_count": 3,
     "metadata": {},
     "output_type": "execute_result"
    }
   ],
   "source": [
    "df_asma_data.shape"
   ]
  },
  {
   "cell_type": "code",
   "execution_count": 4,
   "metadata": {},
   "outputs": [
    {
     "data": {
      "text/html": [
       "<div>\n",
       "<style scoped>\n",
       "    .dataframe tbody tr th:only-of-type {\n",
       "        vertical-align: middle;\n",
       "    }\n",
       "\n",
       "    .dataframe tbody tr th {\n",
       "        vertical-align: top;\n",
       "    }\n",
       "\n",
       "    .dataframe thead th {\n",
       "        text-align: right;\n",
       "    }\n",
       "</style>\n",
       "<table border=\"1\" class=\"dataframe\">\n",
       "  <thead>\n",
       "    <tr style=\"text-align: right;\">\n",
       "      <th></th>\n",
       "      <th>Unnamed: 0</th>\n",
       "      <th>DIRECTORIO</th>\n",
       "      <th>DIRECTORIO_HOG</th>\n",
       "      <th>DIRECTORIO_PER</th>\n",
       "      <th>DPTO</th>\n",
       "      <th>MPIO</th>\n",
       "      <th>CLASE</th>\n",
       "      <th>COD_LOCALIDAD</th>\n",
       "      <th>NOMBRE_LOCALIDAD</th>\n",
       "      <th>COD_UPZ_GRUPO</th>\n",
       "      <th>...</th>\n",
       "      <th>NPCHP35C</th>\n",
       "      <th>NPCHP35D</th>\n",
       "      <th>NPCHP35E</th>\n",
       "      <th>NPCHP35F</th>\n",
       "      <th>NPCHP35I</th>\n",
       "      <th>NPCHP35J</th>\n",
       "      <th>NPCHP35K</th>\n",
       "      <th>NPCHP36</th>\n",
       "      <th>NPCHP36A</th>\n",
       "      <th>NPCHP37</th>\n",
       "    </tr>\n",
       "  </thead>\n",
       "  <tbody>\n",
       "    <tr>\n",
       "      <th>2554</th>\n",
       "      <td>2555</td>\n",
       "      <td>1065824</td>\n",
       "      <td>10658241</td>\n",
       "      <td>106582412</td>\n",
       "      <td>11</td>\n",
       "      <td>11001</td>\n",
       "      <td>1</td>\n",
       "      <td>9.0</td>\n",
       "      <td>Fontibon</td>\n",
       "      <td>114.0</td>\n",
       "      <td>...</td>\n",
       "      <td>2.0</td>\n",
       "      <td>2.0</td>\n",
       "      <td>2.0</td>\n",
       "      <td>2.0</td>\n",
       "      <td>2.0</td>\n",
       "      <td>2.0</td>\n",
       "      <td>2.0</td>\n",
       "      <td>2.0</td>\n",
       "      <td>NaN</td>\n",
       "      <td>NaN</td>\n",
       "    </tr>\n",
       "    <tr>\n",
       "      <th>6262</th>\n",
       "      <td>6263</td>\n",
       "      <td>326662</td>\n",
       "      <td>3266621</td>\n",
       "      <td>32666214</td>\n",
       "      <td>11</td>\n",
       "      <td>11001</td>\n",
       "      <td>1</td>\n",
       "      <td>11.0</td>\n",
       "      <td>Suba</td>\n",
       "      <td>806.0</td>\n",
       "      <td>...</td>\n",
       "      <td>2.0</td>\n",
       "      <td>2.0</td>\n",
       "      <td>2.0</td>\n",
       "      <td>2.0</td>\n",
       "      <td>2.0</td>\n",
       "      <td>2.0</td>\n",
       "      <td>2.0</td>\n",
       "      <td>2.0</td>\n",
       "      <td>NaN</td>\n",
       "      <td>2.0</td>\n",
       "    </tr>\n",
       "    <tr>\n",
       "      <th>6836</th>\n",
       "      <td>6837</td>\n",
       "      <td>334633</td>\n",
       "      <td>3346331</td>\n",
       "      <td>33463311</td>\n",
       "      <td>11</td>\n",
       "      <td>11001</td>\n",
       "      <td>1</td>\n",
       "      <td>4.0</td>\n",
       "      <td>San Cristobal</td>\n",
       "      <td>32.0</td>\n",
       "      <td>...</td>\n",
       "      <td>2.0</td>\n",
       "      <td>2.0</td>\n",
       "      <td>2.0</td>\n",
       "      <td>2.0</td>\n",
       "      <td>2.0</td>\n",
       "      <td>2.0</td>\n",
       "      <td>2.0</td>\n",
       "      <td>2.0</td>\n",
       "      <td>NaN</td>\n",
       "      <td>NaN</td>\n",
       "    </tr>\n",
       "    <tr>\n",
       "      <th>2543</th>\n",
       "      <td>2544</td>\n",
       "      <td>1065171</td>\n",
       "      <td>10651711</td>\n",
       "      <td>106517114</td>\n",
       "      <td>11</td>\n",
       "      <td>11001</td>\n",
       "      <td>1</td>\n",
       "      <td>9.0</td>\n",
       "      <td>Fontibon</td>\n",
       "      <td>114.0</td>\n",
       "      <td>...</td>\n",
       "      <td>2.0</td>\n",
       "      <td>2.0</td>\n",
       "      <td>2.0</td>\n",
       "      <td>2.0</td>\n",
       "      <td>2.0</td>\n",
       "      <td>2.0</td>\n",
       "      <td>2.0</td>\n",
       "      <td>2.0</td>\n",
       "      <td>NaN</td>\n",
       "      <td>NaN</td>\n",
       "    </tr>\n",
       "    <tr>\n",
       "      <th>7061</th>\n",
       "      <td>7062</td>\n",
       "      <td>337606</td>\n",
       "      <td>3376061</td>\n",
       "      <td>33760614</td>\n",
       "      <td>11</td>\n",
       "      <td>11001</td>\n",
       "      <td>1</td>\n",
       "      <td>11.0</td>\n",
       "      <td>Suba</td>\n",
       "      <td>806.0</td>\n",
       "      <td>...</td>\n",
       "      <td>NaN</td>\n",
       "      <td>NaN</td>\n",
       "      <td>NaN</td>\n",
       "      <td>NaN</td>\n",
       "      <td>NaN</td>\n",
       "      <td>NaN</td>\n",
       "      <td>NaN</td>\n",
       "      <td>2.0</td>\n",
       "      <td>NaN</td>\n",
       "      <td>NaN</td>\n",
       "    </tr>\n",
       "  </tbody>\n",
       "</table>\n",
       "<p>5 rows × 601 columns</p>\n",
       "</div>"
      ],
      "text/plain": [
       "      Unnamed: 0  DIRECTORIO  DIRECTORIO_HOG  DIRECTORIO_PER  DPTO   MPIO  \\\n",
       "2554        2555     1065824        10658241       106582412    11  11001   \n",
       "6262        6263      326662         3266621        32666214    11  11001   \n",
       "6836        6837      334633         3346331        33463311    11  11001   \n",
       "2543        2544     1065171        10651711       106517114    11  11001   \n",
       "7061        7062      337606         3376061        33760614    11  11001   \n",
       "\n",
       "      CLASE  COD_LOCALIDAD NOMBRE_LOCALIDAD  COD_UPZ_GRUPO  ... NPCHP35C  \\\n",
       "2554      1            9.0         Fontibon          114.0  ...      2.0   \n",
       "6262      1           11.0             Suba          806.0  ...      2.0   \n",
       "6836      1            4.0    San Cristobal           32.0  ...      2.0   \n",
       "2543      1            9.0         Fontibon          114.0  ...      2.0   \n",
       "7061      1           11.0             Suba          806.0  ...      NaN   \n",
       "\n",
       "      NPCHP35D NPCHP35E  NPCHP35F  NPCHP35I  NPCHP35J  NPCHP35K  NPCHP36  \\\n",
       "2554       2.0      2.0       2.0       2.0       2.0       2.0      2.0   \n",
       "6262       2.0      2.0       2.0       2.0       2.0       2.0      2.0   \n",
       "6836       2.0      2.0       2.0       2.0       2.0       2.0      2.0   \n",
       "2543       2.0      2.0       2.0       2.0       2.0       2.0      2.0   \n",
       "7061       NaN      NaN       NaN       NaN       NaN       NaN      2.0   \n",
       "\n",
       "      NPCHP36A  NPCHP37  \n",
       "2554       NaN      NaN  \n",
       "6262       NaN      2.0  \n",
       "6836       NaN      NaN  \n",
       "2543       NaN      NaN  \n",
       "7061       NaN      NaN  \n",
       "\n",
       "[5 rows x 601 columns]"
      ]
     },
     "execution_count": 4,
     "metadata": {},
     "output_type": "execute_result"
    }
   ],
   "source": [
    "df_asma_data.sample(5)"
   ]
  },
  {
   "cell_type": "markdown",
   "metadata": {},
   "source": [
    "## 1. Entendimiento de los datos:"
   ]
  },
  {
   "cell_type": "markdown",
   "metadata": {},
   "source": [
    "<b>Objetivo: ¿Cuál es la relación entre el medio de transporte usado y la aparición de síntomas sugestivos de asma entre la población de las diferentes localidades de Bogotá durante el 2021?</b>\n",
    "\n",
    "Para esto se va a revisar las columnas:\n",
    "- NOMBRE_LOCALIDAD\n",
    "- DPTO: 11 (Bogotá)\n",
    "- MPIO: 11001 municipio bogotá\n",
    "- NPCFP14F: .le han diagnosticado alguna de estas enfermedades o problemas de salud: 6. Enfermedades respiratorias crónicas como: Asma, EPOC, Enfisema?\n",
    "\n",
    "- NPCHP18AA: Cúales medios de transporte utiliza-> Transmilenio\n",
    "- NPCHP18AB: Cúales medios de transporte utiliza-> SITP\n",
    "- NPCHP18AC: Cúales medios de transporte utiliza-> buseta o colectivo\n",
    "- NPCHP18AD: Cúales medios de transporte utiliza-> automóvil de uso particular\n",
    "- NPCHP18AE: Cúales medios de transporte utiliza-> Taxi\n",
    "- NPCHP18AF: Cúales medios de transporte utiliza-> Motocicleta\n",
    "- NPCHP18AG: Cúales medios de transporte utiliza-> Bicicleta\n",
    "- NPCHP18AH: Cúales medios de transporte utiliza-> Ruta escolar\n",
    "- NPCHP18AI: Cúales medios de transporte utiliza-> A pie\n",
    "- NPCHP18AI1: Cúales medios de transporte utiliza-> Bus intermunicipal\n",
    "- NPCHP18AJ: Cúales medios de transporte utiliza-> bicitaxi o mototaxi\n",
    "- NPCHP18AK: Cúales medios de transporte utiliza-> particulares plataformas o aplicaciones\n",
    "- NPCHP18AL: Cúales medios de transporte utiliza-> vehículo, patineta o moto elécticos\n",
    "- NPCHP18AM: Cúales medios de transporte utiliza-> caballo\n",
    "- NPCHP18AN: Cúales medios de transporte utiliza-> otros\n",
    "- NPCHP18AO: Cúales medios de transporte utiliza-> no se desplaza\n",
    "\n",
    "\n",
    "\n",
    "\n",
    "\n",
    "Completitud de los datos:\n",
    "En base a los siguientes analisis podremos notar que hay varios datos que están vacios por lo que es importante revisar solo las columnas que van a ser usadas en el analisis:"
   ]
  },
  {
   "cell_type": "code",
   "execution_count": 43,
   "metadata": {},
   "outputs": [],
   "source": [
    "columnas_de_interes=[\"NOMBRE_LOCALIDAD\",\"DPTO\",\"MPIO\",\"NPCFP14F\",\"NPCHP18AA\", \"NPCHP18AB\", \"NPCHP18AC\", \"NPCHP18AD\", \"NPCHP18AE\", \"NPCHP18AF\", \"NPCHP18AG\", \"NPCHP18AH\", \"NPCHP18AI\", \"NPCHP18AI1\", \"NPCHP18AJ\", \"NPCHP18AK\", \"NPCHP18AL\", \"NPCHP18AM\", \"NPCHP18AN\", \"NPCHP18AO\"]\n",
    "df_asma_r = df_asma_data[columnas_de_interes]"
   ]
  },
  {
   "cell_type": "code",
   "execution_count": 44,
   "metadata": {},
   "outputs": [],
   "source": [
    "df_asma_bogota=df_asma_r[df_asma_r[\"DPTO\"]==11] "
   ]
  },
  {
   "cell_type": "code",
   "execution_count": 45,
   "metadata": {},
   "outputs": [
    {
     "name": "stdout",
     "output_type": "stream",
     "text": [
      "NOMBRE_LOCALIDAD       0\n",
      "DPTO                   0\n",
      "MPIO                   0\n",
      "NPCFP14F               0\n",
      "NPCHP18AA           5597\n",
      "NPCHP18AB           5597\n",
      "NPCHP18AC           5597\n",
      "NPCHP18AD           5597\n",
      "NPCHP18AE           5597\n",
      "NPCHP18AF           5597\n",
      "NPCHP18AG           5597\n",
      "NPCHP18AH           5597\n",
      "NPCHP18AI           5597\n",
      "NPCHP18AI1          5597\n",
      "NPCHP18AJ           5597\n",
      "NPCHP18AK           5597\n",
      "NPCHP18AL           5597\n",
      "NPCHP18AM           7211\n",
      "NPCHP18AN           5597\n",
      "NPCHP18AO           5597\n",
      "dtype: int64\n"
     ]
    }
   ],
   "source": [
    "print(df_asma_bogota.isnull().sum())"
   ]
  },
  {
   "cell_type": "code",
   "execution_count": 46,
   "metadata": {},
   "outputs": [
    {
     "name": "stdout",
     "output_type": "stream",
     "text": [
      "NOMBRE_LOCALIDAD    20\n",
      "DPTO                 1\n",
      "MPIO                 1\n",
      "NPCFP14F             1\n",
      "NPCHP18AA            2\n",
      "NPCHP18AB            2\n",
      "NPCHP18AC            2\n",
      "NPCHP18AD            2\n",
      "NPCHP18AE            2\n",
      "NPCHP18AF            2\n",
      "NPCHP18AG            2\n",
      "NPCHP18AH            2\n",
      "NPCHP18AI            2\n",
      "NPCHP18AI1           2\n",
      "NPCHP18AJ            1\n",
      "NPCHP18AK            2\n",
      "NPCHP18AL            2\n",
      "NPCHP18AM            1\n",
      "NPCHP18AN            2\n",
      "NPCHP18AO            2\n",
      "dtype: int64\n"
     ]
    }
   ],
   "source": [
    "print(df_asma_bogota.nunique())"
   ]
  },
  {
   "cell_type": "code",
   "execution_count": 47,
   "metadata": {},
   "outputs": [
    {
     "data": {
      "text/plain": [
       "6934"
      ]
     },
     "execution_count": 47,
     "metadata": {},
     "output_type": "execute_result"
    }
   ],
   "source": [
    "df_asma_bogota.duplicated().sum()\n"
   ]
  },
  {
   "cell_type": "code",
   "execution_count": 48,
   "metadata": {},
   "outputs": [],
   "source": [
    "def print_counts(df):\n",
    "    cols=list(df.columns)\n",
    "    for i in cols:\n",
    "        print(\"Para la columna: \"+i+\"\\n\")\n",
    "        print(df[i].value_counts())\n",
    "        print (\"_________________________\\n\")"
   ]
  },
  {
   "cell_type": "code",
   "execution_count": 49,
   "metadata": {},
   "outputs": [
    {
     "name": "stdout",
     "output_type": "stream",
     "text": [
      "Para la columna: NOMBRE_LOCALIDAD\n",
      "\n",
      "Suba                  855\n",
      "Kennedy               790\n",
      "Engativa              551\n",
      "Ciudad Bolivar        498\n",
      "Usaquen               453\n",
      "Fontibon              439\n",
      "Rafael Uribe Uribe    426\n",
      "Teusaquillo           420\n",
      "Bosa                  400\n",
      "San Cristobal         396\n",
      "Usme                  342\n",
      "Santa Fe              290\n",
      "Puente Aranda         281\n",
      "Chapinero             253\n",
      "Barrios Unidos        233\n",
      "Tunjuelito            167\n",
      "Los Martires          156\n",
      "Antonio Nariño        138\n",
      "La Candelaria         101\n",
      "Sumapaz                49\n",
      "Name: NOMBRE_LOCALIDAD, dtype: int64\n",
      "_________________________\n",
      "\n",
      "Para la columna: DPTO\n",
      "\n",
      "11    7238\n",
      "Name: DPTO, dtype: int64\n",
      "_________________________\n",
      "\n",
      "Para la columna: MPIO\n",
      "\n",
      "11001    7238\n",
      "Name: MPIO, dtype: int64\n",
      "_________________________\n",
      "\n",
      "Para la columna: NPCFP14F\n",
      "\n",
      "1    7238\n",
      "Name: NPCFP14F, dtype: int64\n",
      "_________________________\n",
      "\n",
      "Para la columna: NPCHP18AA\n",
      "\n",
      "2.0    1497\n",
      "1.0     144\n",
      "Name: NPCHP18AA, dtype: int64\n",
      "_________________________\n",
      "\n",
      "Para la columna: NPCHP18AB\n",
      "\n",
      "2.0    1521\n",
      "1.0     120\n",
      "Name: NPCHP18AB, dtype: int64\n",
      "_________________________\n",
      "\n",
      "Para la columna: NPCHP18AC\n",
      "\n",
      "2.0    1584\n",
      "1.0      57\n",
      "Name: NPCHP18AC, dtype: int64\n",
      "_________________________\n",
      "\n",
      "Para la columna: NPCHP18AD\n",
      "\n",
      "2.0    1562\n",
      "1.0      79\n",
      "Name: NPCHP18AD, dtype: int64\n",
      "_________________________\n",
      "\n",
      "Para la columna: NPCHP18AE\n",
      "\n",
      "2.0    1603\n",
      "1.0      38\n",
      "Name: NPCHP18AE, dtype: int64\n",
      "_________________________\n",
      "\n",
      "Para la columna: NPCHP18AF\n",
      "\n",
      "2.0    1626\n",
      "1.0      15\n",
      "Name: NPCHP18AF, dtype: int64\n",
      "_________________________\n",
      "\n",
      "Para la columna: NPCHP18AG\n",
      "\n",
      "2.0    1588\n",
      "1.0      53\n",
      "Name: NPCHP18AG, dtype: int64\n",
      "_________________________\n",
      "\n",
      "Para la columna: NPCHP18AH\n",
      "\n",
      "2.0    1488\n",
      "1.0     153\n",
      "Name: NPCHP18AH, dtype: int64\n",
      "_________________________\n",
      "\n",
      "Para la columna: NPCHP18AI\n",
      "\n",
      "2.0    1256\n",
      "1.0     385\n",
      "Name: NPCHP18AI, dtype: int64\n",
      "_________________________\n",
      "\n",
      "Para la columna: NPCHP18AI1\n",
      "\n",
      "2.0    1631\n",
      "1.0      10\n",
      "Name: NPCHP18AI1, dtype: int64\n",
      "_________________________\n",
      "\n",
      "Para la columna: NPCHP18AJ\n",
      "\n",
      "2.0    1641\n",
      "Name: NPCHP18AJ, dtype: int64\n",
      "_________________________\n",
      "\n",
      "Para la columna: NPCHP18AK\n",
      "\n",
      "2.0    1619\n",
      "1.0      22\n",
      "Name: NPCHP18AK, dtype: int64\n",
      "_________________________\n",
      "\n",
      "Para la columna: NPCHP18AL\n",
      "\n",
      "2.0    1636\n",
      "1.0       5\n",
      "Name: NPCHP18AL, dtype: int64\n",
      "_________________________\n",
      "\n",
      "Para la columna: NPCHP18AM\n",
      "\n",
      "2.0    27\n",
      "Name: NPCHP18AM, dtype: int64\n",
      "_________________________\n",
      "\n",
      "Para la columna: NPCHP18AN\n",
      "\n",
      "2.0    1635\n",
      "1.0       6\n",
      "Name: NPCHP18AN, dtype: int64\n",
      "_________________________\n",
      "\n",
      "Para la columna: NPCHP18AO\n",
      "\n",
      "2.0    848\n",
      "1.0    793\n",
      "Name: NPCHP18AO, dtype: int64\n",
      "_________________________\n",
      "\n"
     ]
    }
   ],
   "source": [
    "print_counts(df_asma_bogota)"
   ]
  },
  {
   "cell_type": "code",
   "execution_count": 57,
   "metadata": {},
   "outputs": [
    {
     "name": "stdout",
     "output_type": "stream",
     "text": [
      "<class 'pandas.core.frame.DataFrame'>\n",
      "Int64Index: 7238 entries, 0 to 8629\n",
      "Data columns (total 20 columns):\n",
      " #   Column            Non-Null Count  Dtype  \n",
      "---  ------            --------------  -----  \n",
      " 0   NOMBRE_LOCALIDAD  7238 non-null   object \n",
      " 1   DPTO              7238 non-null   int64  \n",
      " 2   MPIO              7238 non-null   int64  \n",
      " 3   NPCFP14F          7238 non-null   int64  \n",
      " 4   NPCHP18AA         1641 non-null   float64\n",
      " 5   NPCHP18AB         1641 non-null   float64\n",
      " 6   NPCHP18AC         1641 non-null   float64\n",
      " 7   NPCHP18AD         1641 non-null   float64\n",
      " 8   NPCHP18AE         1641 non-null   float64\n",
      " 9   NPCHP18AF         1641 non-null   float64\n",
      " 10  NPCHP18AG         1641 non-null   float64\n",
      " 11  NPCHP18AH         1641 non-null   float64\n",
      " 12  NPCHP18AI         1641 non-null   float64\n",
      " 13  NPCHP18AI1        1641 non-null   float64\n",
      " 14  NPCHP18AJ         1641 non-null   float64\n",
      " 15  NPCHP18AK         1641 non-null   float64\n",
      " 16  NPCHP18AL         1641 non-null   float64\n",
      " 17  NPCHP18AM         27 non-null     float64\n",
      " 18  NPCHP18AN         1641 non-null   float64\n",
      " 19  NPCHP18AO         1641 non-null   float64\n",
      "dtypes: float64(16), int64(3), object(1)\n",
      "memory usage: 1.2+ MB\n"
     ]
    }
   ],
   "source": [
    "df_asma_bogota.info()"
   ]
  },
  {
   "cell_type": "markdown",
   "metadata": {},
   "source": [
    "Diagrama relación Asma y problemas respiratorios x localidad"
   ]
  },
  {
   "cell_type": "code",
   "execution_count": 58,
   "metadata": {},
   "outputs": [],
   "source": [
    "import matplotlib.pyplot as plt\n"
   ]
  },
  {
   "cell_type": "code",
   "execution_count": 82,
   "metadata": {},
   "outputs": [
    {
     "data": {
      "image/png": "[encoded data removed]",
      "text/plain": [
       "<Figure size 640x480 with 1 Axes>"
      ]
     },
     "metadata": {},
     "output_type": "display_data"
    }
   ],
   "source": [
    "value_counts = df_asma_bogota['NOMBRE_LOCALIDAD'].value_counts().sort_index()\n",
    "plt.bar(value_counts.index, value_counts.values, color='blue', edgecolor='black')\n",
    "plt.xlabel('Localidad')\n",
    "plt.ylabel('Frecuencia')\n",
    "plt.title('diagnosticado alguna de estas enfermedades respiratorias crónicas como: Asma, EPOC, Enfisema x localidad')\n",
    "plt.xticks(rotation=45, ha='right', fontsize=8)\n",
    "plt.grid(axis='y', linestyle='--')\n",
    "plt.tight_layout()\n",
    "plt.show()"
   ]
  },
  {
   "cell_type": "code",
   "execution_count": 83,
   "metadata": {},
   "outputs": [],
   "source": [
    "def corr_asma_transport(df):\n",
    "    cols= [\"NPCHP18AA\", \"NPCHP18AB\", \"NPCHP18AC\", \"NPCHP18AD\", \"NPCHP18AE\", \"NPCHP18AF\", \"NPCHP18AG\", \"NPCHP18AH\", \"NPCHP18AI\", \"NPCHP18AI1\", \"NPCHP18AJ\", \"NPCHP18AK\", \"NPCHP18AL\", \"NPCHP18AM\", \"NPCHP18AN\", \"NPCHP18AO\"]\n",
    "    vals = {}\n",
    "    for col in cols:\n",
    "        vals[col]=len(df_asma_bogota[df_asma_bogota[col]==1])\n",
    "    col_transport = list(vals.keys())\n",
    "    values = list(vals.values())\n",
    "    plt.bar(col_transport, values, color ='maroon',\n",
    "        width = 0.4)\n",
    "    plt.xlabel(\"Transporte\")\n",
    "    plt.ylabel(\"No. de personas con sintomas de asma\")\n",
    "    plt.xticks(rotation=45, ha='right', fontsize=8)\n",
    "    plt.grid(axis='y', linestyle='--')\n",
    "    plt.title(\"Encuestados con asma por transporte\")\n",
    "    plt.show()"
   ]
  },
  {
   "cell_type": "code",
   "execution_count": 81,
   "metadata": {},
   "outputs": [
    {
     "data": {
      "image/png": "[encoded data removed]",
      "text/plain": [
       "<Figure size 640x480 with 1 Axes>"
      ]
     },
     "metadata": {},
     "output_type": "display_data"
    }
   ],
   "source": [
    "corr_asma_transport(df_asma_bogota)"
   ]
  },
  {
   "cell_type": "markdown",
   "metadata": {},
   "source": [
    " NPCHP18AL (Vehículo, patineta, bicicleta o moto eléctricos) y NPCHP18AO (No se desplaza) tienen una mayor relación "
   ]
  },
  {
   "cell_type": "code",
   "execution_count": null,
   "metadata": {},
   "outputs": [],
   "source": []
  }
 ],
 "metadata": {
  "kernelspec": {
   "display_name": "Python 3 (ipykernel)",
   "language": "python",
   "name": "python3"
  },
  "language_info": {
   "codemirror_mode": {
    "name": "ipython",
    "version": 3
   },
   "file_extension": ".py",
   "mimetype": "text/x-python",
   "name": "python",
   "nbconvert_exporter": "python",
   "pygments_lexer": "ipython3",
   "version": "3.9.13"
  }
 },
 "nbformat": 4,
 "nbformat_minor": 1
}
